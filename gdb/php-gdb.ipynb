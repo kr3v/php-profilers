{
 "cells": [
  {
   "cell_type": "code",
   "execution_count": 6,
   "metadata": {
    "collapsed": false,
    "pycharm": {
     "name": "#%%\n"
    }
   },
   "outputs": [],
   "source": [
    "import re\n",
    "\n",
    "path = \"<src>\"\n",
    "with open(path, encoding='utf-8') as f:\n",
    "    ls = f.readlines()"
   ]
  },
  {
   "cell_type": "code",
   "execution_count": 7,
   "metadata": {
    "collapsed": false,
    "pycharm": {
     "name": "#%%\n"
    }
   },
   "outputs": [],
   "source": [
    "mc1 = \"C stack start\"\n",
    "mc2 = \"C stack end\"\n",
    "mp1 = \"PHP stack start\"\n",
    "mp2 = \"PHP stack end\"\n",
    "\n",
    "start = 0\n",
    "got_c_start = 1\n",
    "got_c_end = 2\n",
    "got_php_start = 3\n",
    "\n",
    "stacks_complete = []\n",
    "stacks_incomplete = []\n",
    "\n",
    "buff_c = []\n",
    "buff_php = []\n",
    "buff_others = []\n",
    "state = start\n",
    "for l in ls:\n",
    "    if mc1 in l:\n",
    "        if state != start:\n",
    "            stacks_incomplete.append((state, buff_c, buff_php, buff_others, l))\n",
    "        state = got_c_start\n",
    "        buff_c = []\n",
    "        buff_php = []\n",
    "        buff_others = []\n",
    "    elif mc2 in l:\n",
    "        if state != got_c_start:\n",
    "            stacks_incomplete.append((state, buff_c, buff_php, buff_others, l))\n",
    "            state = start\n",
    "            buff_c = []\n",
    "            buff_php = []\n",
    "            buff_others = []\n",
    "        else:\n",
    "            state = got_c_end\n",
    "    elif mp1 in l:\n",
    "        if state != got_c_end:\n",
    "            stacks_incomplete.append((state, buff_c, buff_php, buff_others, l))\n",
    "            state = start\n",
    "            buff_c = []\n",
    "            buff_php = []\n",
    "            buff_others = []\n",
    "        else:\n",
    "            state = got_php_start\n",
    "    elif mp2 in l:\n",
    "        if state != got_php_start:\n",
    "            stacks_incomplete.append((state, buff_c, buff_php, buff_others, l))\n",
    "            state = start\n",
    "        else:\n",
    "            stacks_complete.append((buff_c, buff_php, buff_others))\n",
    "            state = start\n",
    "        buff_c = []\n",
    "        buff_php = []\n",
    "        buff_others = []\n",
    "    else:\n",
    "        if state >= got_php_start and l.startswith(\"$\"):\n",
    "            buff_php.append(l)\n",
    "        elif state >= got_c_start and l.startswith(\"#\"):\n",
    "            buff_c.append(l)\n",
    "        else:\n",
    "            buff_others.append(l)"
   ]
  },
  {
   "cell_type": "code",
   "execution_count": 8,
   "metadata": {
    "collapsed": false,
    "pycharm": {
     "name": "#%%\n"
    }
   },
   "outputs": [],
   "source": [
    "stacks_complete_v2 = []\n",
    "for c1, php1, _ in stacks_complete:\n",
    "    c2 = []\n",
    "    for l in c1:\n",
    "        s1 = re.split(\"^#\\d+\\s+\", l, maxsplit=2)[1]\n",
    "        s2_a = re.split(\"^0x[a-f\\d]+\\s+in\\s+\", s1, maxsplit=2)\n",
    "        s2 = s2_a[len(s2_a) - 1]\n",
    "        s3 = s2.split(\" (\", maxsplit=1)\n",
    "        if len(s3) != 2:\n",
    "            print(s1, s2_a, s3, l)\n",
    "            continue\n",
    "        if s3[0] == '??':\n",
    "            continue\n",
    "        c2.append(s3[0])\n",
    "    php2 = []\n",
    "    for l in php1:\n",
    "        s1 = l.split(' = ', maxsplit=1)[1]\n",
    "        if not s1.startswith(\"0x\"):\n",
    "            continue\n",
    "        s2 = re.split(\"0x[a-f\\d]+ \", s1)[1]\n",
    "        s3 = s2.removeprefix('\"').removesuffix('\"\\n')\n",
    "        php2.append(s3)\n",
    "    stacks_complete_v2.append((c2, php2))"
   ]
  },
  {
   "cell_type": "code",
   "execution_count": 9,
   "metadata": {
    "collapsed": false,
    "pycharm": {
     "name": "#%%\n"
    }
   },
   "outputs": [],
   "source": [
    "def f(d, v):\n",
    "    v_s = ';'.join(v)\n",
    "    d[v_s] = d.setdefault(v_s, 0) + 1\n",
    "\n",
    "\n",
    "d = {}\n",
    "for c, php0 in stacks_complete_v2:\n",
    "    php = [x + '::' for x in php0]\n",
    "    last = -1\n",
    "    for i, l in enumerate(reversed(c)):\n",
    "        if 'execute_ex' in l:\n",
    "            last = i\n",
    "    if last == -1:\n",
    "        v = c + php\n",
    "    else:\n",
    "        last = len(c) - last - 1\n",
    "        v = c[:last] + php + c[last:]\n",
    "    f(d, list(reversed(v)))\n",
    "\n",
    "with open('./stacks.c.php', mode='w') as f:\n",
    "    for k, v in d.items():\n",
    "        f.write('%s %d\\n' % (k, v))"
   ]
  },
  {
   "cell_type": "code",
   "execution_count": 10,
   "metadata": {
    "collapsed": false,
    "pycharm": {
     "name": "#%%\n"
    }
   },
   "outputs": [],
   "source": [
    "def f(d, v):\n",
    "    v_s = ';'.join(v)\n",
    "    d[v_s] = d.setdefault(v_s, 0) + 1\n",
    "\n",
    "\n",
    "d = {}\n",
    "for c, php0 in stacks_complete_v2:\n",
    "    php = [x + '::' for x in php0]\n",
    "    last = -1\n",
    "    for i, l in enumerate(reversed(c)):\n",
    "        if 'execute_ex' in l:\n",
    "            last = i\n",
    "    if last == -1:\n",
    "        v = c + php\n",
    "    else:\n",
    "        last = len(c) - last - 1\n",
    "        v = c[:last] + php + c[last:]\n",
    "    f(d, list(reversed(v)))\n",
    "\n",
    "with open(f\"{path}.stacks\", mode='w') as f:\n",
    "    for k, v in d.items():\n",
    "        f.write('%s %d\\n' % (k, v))"
   ]
  }
 ],
 "metadata": {
  "kernelspec": {
   "display_name": "Python 3",
   "language": "python",
   "name": "python3"
  },
  "language_info": {
   "codemirror_mode": {
    "name": "ipython",
    "version": 2
   },
   "file_extension": ".py",
   "mimetype": "text/x-python",
   "name": "python",
   "nbconvert_exporter": "python",
   "pygments_lexer": "ipython2",
   "version": "2.7.6"
  }
 },
 "nbformat": 4,
 "nbformat_minor": 0
}
